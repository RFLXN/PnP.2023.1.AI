{
 "cells": [
  {
   "cell_type": "markdown",
   "source": [],
   "metadata": {
    "collapsed": false
   }
  },
  {
   "cell_type": "code",
   "execution_count": 6,
   "metadata": {
    "collapsed": true,
    "ExecuteTime": {
     "end_time": "2023-05-15T06:19:27.409740700Z",
     "start_time": "2023-05-15T06:19:27.253745900Z"
    }
   },
   "outputs": [
    {
     "data": {
      "text/plain": "occupation\nstudent          60\nother            36\nadministrator    36\nlibrarian        29\neducator         26\nwriter           19\nartist           13\nhealthcare       11\nmarketing        10\nhomemaker         6\nprogrammer        6\nnone              4\nexecutive         3\nscientist         3\nsalesman          3\nengineer          2\nlawyer            2\nentertainment     2\nretired           1\ntechnician        1\nName: count, dtype: int64"
     },
     "execution_count": 6,
     "metadata": {},
     "output_type": "execute_result"
    }
   ],
   "source": [
    "import pandas as pd\n",
    "\n",
    "df = pd.read_csv(\"data/occupations.csv\")\n",
    "\n",
    "df.loc[df[\"gender\"] == \"F\", \"occupation\"].value_counts()"
   ]
  },
  {
   "cell_type": "code",
   "execution_count": null,
   "outputs": [],
   "source": [],
   "metadata": {
    "collapsed": false
   }
  },
  {
   "cell_type": "code",
   "execution_count": 7,
   "outputs": [
    {
     "data": {
      "text/plain": "occupation\nstudent          136\nother             69\neducator          69\nengineer          65\nprogrammer        60\nadministrator     43\nexecutive         29\nscientist         28\ntechnician        26\nwriter            26\nlibrarian         22\nentertainment     16\nmarketing         16\nartist            15\nretired           13\nlawyer            10\nsalesman           9\ndoctor             7\nnone               5\nhealthcare         5\nhomemaker          1\nName: count, dtype: int64"
     },
     "execution_count": 7,
     "metadata": {},
     "output_type": "execute_result"
    }
   ],
   "source": [
    "import pandas as pd\n",
    "\n",
    "df = pd.read_csv(\"data/occupations.csv\")\n",
    "\n",
    "df.loc[df[\"gender\"] == \"M\", \"occupation\"].value_counts()"
   ],
   "metadata": {
    "collapsed": false,
    "ExecuteTime": {
     "end_time": "2023-05-15T06:19:55.842434600Z",
     "start_time": "2023-05-15T06:19:55.825433800Z"
    }
   }
  },
  {
   "cell_type": "code",
   "execution_count": null,
   "outputs": [],
   "source": [],
   "metadata": {
    "collapsed": false
   }
  }
 ],
 "metadata": {
  "kernelspec": {
   "display_name": "Python 3",
   "language": "python",
   "name": "python3"
  },
  "language_info": {
   "codemirror_mode": {
    "name": "ipython",
    "version": 2
   },
   "file_extension": ".py",
   "mimetype": "text/x-python",
   "name": "python",
   "nbconvert_exporter": "python",
   "pygments_lexer": "ipython2",
   "version": "2.7.6"
  }
 },
 "nbformat": 4,
 "nbformat_minor": 0
}
